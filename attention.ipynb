{
  "nbformat": 4,
  "nbformat_minor": 0,
  "metadata": {
    "colab": {
      "provenance": [],
      "authorship_tag": "ABX9TyPTpn9uLitLpSuh93+/dd6T",
      "include_colab_link": true
    },
    "kernelspec": {
      "name": "python3",
      "display_name": "Python 3"
    },
    "language_info": {
      "name": "python"
    }
  },
  "cells": [
    {
      "cell_type": "markdown",
      "metadata": {
        "id": "view-in-github",
        "colab_type": "text"
      },
      "source": [
        "<a href=\"https://colab.research.google.com/github/alexlinapp/proofLLM/blob/main/attention.ipynb\" target=\"_parent\"><img src=\"https://colab.research.google.com/assets/colab-badge.svg\" alt=\"Open In Colab\"/></a>"
      ]
    },
    {
      "cell_type": "code",
      "execution_count": 1,
      "metadata": {
        "colab": {
          "base_uri": "https://localhost:8080/"
        },
        "id": "l6oLpReA3Vst",
        "outputId": "e2a85caa-ba32-4343-a4d5-652dd39167c3"
      },
      "outputs": [
        {
          "output_type": "stream",
          "name": "stdout",
          "text": [
            "torch version: 2.6.0+cu124\n"
          ]
        }
      ],
      "source": [
        "from importlib.metadata import version\n",
        "\n",
        "print(\"torch version:\", version(\"torch\"))"
      ]
    },
    {
      "cell_type": "code",
      "source": [
        "import torch\n",
        "inputs = torch.tensor(\n",
        "  [[0.43, 0.15, 0.89], # Your     (x^1)\n",
        "   [0.55, 0.87, 0.66], # journey  (x^2)\n",
        "   [0.57, 0.85, 0.64], # starts   (x^3)\n",
        "   [0.22, 0.58, 0.33], # with     (x^4)\n",
        "   [0.77, 0.25, 0.10], # one      (x^5)\n",
        "   [0.05, 0.80, 0.55]] # step     (x^6)\n",
        ")\n",
        "query = inputs[1]\n",
        "attention_scores = torch.empty(inputs.shape[0])\n",
        "for i, xi in enumerate(inputs):\n",
        "  attention_scores[i] = torch.dot(query, xi)\n",
        "attention_scores, inputs.shape\n",
        "attention_scores_normalized = attention_scores / torch.sum(attention_scores)\n",
        "attention_scores_normalized, attention_scores, query.shape"
      ],
      "metadata": {
        "colab": {
          "base_uri": "https://localhost:8080/"
        },
        "id": "AgM9gwhn35_-",
        "outputId": "ce0eb835-e4d0-4bbf-efe4-f9fec3beb8a3"
      },
      "execution_count": 22,
      "outputs": [
        {
          "output_type": "execute_result",
          "data": {
            "text/plain": [
              "(tensor([0.1455, 0.2278, 0.2249, 0.1285, 0.1077, 0.1656]),\n",
              " tensor([0.9544, 1.4950, 1.4754, 0.8434, 0.7070, 1.0865]),\n",
              " torch.Size([3]))"
            ]
          },
          "metadata": {},
          "execution_count": 22
        }
      ]
    },
    {
      "cell_type": "code",
      "source": [
        "context_vec_2 = torch.zeros(query.shape)\n",
        "for i, xi in enumerate(inputs):\n",
        "  context_vec_2 += attention_scores_normalized[i] * xi\n",
        "  print(attention_scores_normalized[i].shape, xi.shape) # attention_scores_normalized is a vector containing the attention weights of each item imbedding\n",
        "  # , xi is the actual input/item embedding\n",
        "context_vec_2.shape\n"
      ],
      "metadata": {
        "colab": {
          "base_uri": "https://localhost:8080/"
        },
        "id": "qxnndBkmIXuU",
        "outputId": "5a80df08-3791-40d0-ae4c-65548b0b14a5"
      },
      "execution_count": 3,
      "outputs": [
        {
          "output_type": "stream",
          "name": "stdout",
          "text": [
            "torch.Size([]) torch.Size([3])\n",
            "torch.Size([]) torch.Size([3])\n",
            "torch.Size([]) torch.Size([3])\n",
            "torch.Size([]) torch.Size([3])\n",
            "torch.Size([]) torch.Size([3])\n",
            "torch.Size([]) torch.Size([3])\n"
          ]
        },
        {
          "output_type": "execute_result",
          "data": {
            "text/plain": [
              "torch.Size([3])"
            ]
          },
          "metadata": {},
          "execution_count": 3
        }
      ]
    },
    {
      "cell_type": "code",
      "source": [
        "# compute all context vectors\n",
        "atten_scores = torch.empty(inputs.shape[0], inputs.shape[0])\n",
        "for i, x_i in enumerate(inputs):\n",
        "  for j, x_j in enumerate(inputs):\n",
        "    atten_scores[i, j] = torch.dot(x_i, x_j)\n",
        "print(atten_scores)\n",
        "# using for loops is too slow, notice we can use matrix multiplication\n",
        "atten_score_matrix = inputs @ inputs.T\n",
        "atten_score_matrix == atten_scores, atten_score_matrix\n",
        "atten_weights = torch.softmax(atten_scores, dim=-1)\n",
        "allcontext_vecs = atten_weights @ inputs\n",
        "# To see this,\n",
        "# --------------------\n",
        "#   w1 = {w_{1,1}, w_{1,2}, ..., w_{1,n}} |   | a_1 = {a_{1,1}, a{1,2}, a_{1,3}}\n",
        "#   w2 = .....                            |   | a_2 = {a{2,1}, ...}\n",
        "#                                             |\n",
        "allcontext_vecs"
      ],
      "metadata": {
        "colab": {
          "base_uri": "https://localhost:8080/"
        },
        "collapsed": true,
        "id": "kH40qic5KCRv",
        "outputId": "0793e264-e6f5-4b00-9845-8098eaec0bd2"
      },
      "execution_count": 4,
      "outputs": [
        {
          "output_type": "stream",
          "name": "stdout",
          "text": [
            "tensor([[0.9995, 0.9544, 0.9422, 0.4753, 0.4576, 0.6310],\n",
            "        [0.9544, 1.4950, 1.4754, 0.8434, 0.7070, 1.0865],\n",
            "        [0.9422, 1.4754, 1.4570, 0.8296, 0.7154, 1.0605],\n",
            "        [0.4753, 0.8434, 0.8296, 0.4937, 0.3474, 0.6565],\n",
            "        [0.4576, 0.7070, 0.7154, 0.3474, 0.6654, 0.2935],\n",
            "        [0.6310, 1.0865, 1.0605, 0.6565, 0.2935, 0.9450]])\n"
          ]
        },
        {
          "output_type": "execute_result",
          "data": {
            "text/plain": [
              "tensor([[0.4421, 0.5931, 0.5790],\n",
              "        [0.4419, 0.6515, 0.5683],\n",
              "        [0.4431, 0.6496, 0.5671],\n",
              "        [0.4304, 0.6298, 0.5510],\n",
              "        [0.4671, 0.5910, 0.5266],\n",
              "        [0.4177, 0.6503, 0.5645]])"
            ]
          },
          "metadata": {},
          "execution_count": 4
        }
      ]
    },
    {
      "cell_type": "code",
      "source": [
        "# Self-attention with trainable weights\n",
        "x_2 = inputs[1];  # second input element\n",
        "# print(x_2.shape)\n",
        "print(\"x2: \", x_2)\n",
        "d_in = inputs.shape[1]  # input embedding dimension\n",
        "d_out = 2               # output embedding dimension\n",
        "torch.manual_seed(123)\n",
        "W_query = torch.nn.Parameter(torch.rand(d_in, d_out))\n",
        "W_key = torch.nn.Parameter(torch.rand(d_in, d_out))\n",
        "W_value = torch.nn.Parameter(torch.rand(d_in, d_out))\n",
        "print(W_query, W_value, W_key)\n",
        "query_2 = x_2 @ W_query\n",
        "key_2 = x_2 @ W_key\n",
        "value_2 = x_2 @ W_value\n",
        "# print(query_2.shape, key_2.shape, value_2.shape)\n",
        "print(\"qyery2: \", query_2)\n",
        "keys = inputs @ W_key\n",
        "values = inputs @ W_value\n",
        "# print(keys.shape, values.shape)\n",
        "keys2 = keys[1]\n",
        "atten_score_22 = query_2.dot(keys2)#torch.dot(query_2, keys2)\n",
        "# print(\"atten_score_22\", atten_score_22)\n",
        "atten_score_2 = query_2 @ keys.T\n",
        "# print(\"query_2 shape: \", query_2.shape)\n",
        "# print(\"keys shape: \", keys.shape)\n",
        "print(\"atten_score_2: \", atten_score_2)\n",
        "d_k = keys.shape[1]\n",
        "atten_weights_2 = torch.softmax(atten_score_2 /  d_k**0.5, dim = -1) #  sqrt used to prevent sharp gradients during training\n",
        "print(atten_weights_2)\n",
        "context_vec_2 = atten_weights_2 @ values\n",
        "print(context_vec_2)\n",
        "# print(keys, keys2)"
      ],
      "metadata": {
        "colab": {
          "base_uri": "https://localhost:8080/"
        },
        "collapsed": true,
        "id": "KN7Gm50dO4lA",
        "outputId": "85b15642-2491-4545-c007-d6f55646529c"
      },
      "execution_count": 5,
      "outputs": [
        {
          "output_type": "stream",
          "name": "stdout",
          "text": [
            "x2:  tensor([0.5500, 0.8700, 0.6600])\n",
            "Parameter containing:\n",
            "tensor([[0.2961, 0.5166],\n",
            "        [0.2517, 0.6886],\n",
            "        [0.0740, 0.8665]], requires_grad=True) Parameter containing:\n",
            "tensor([[0.0756, 0.1966],\n",
            "        [0.3164, 0.4017],\n",
            "        [0.1186, 0.8274]], requires_grad=True) Parameter containing:\n",
            "tensor([[0.1366, 0.1025],\n",
            "        [0.1841, 0.7264],\n",
            "        [0.3153, 0.6871]], requires_grad=True)\n",
            "qyery2:  tensor([0.4306, 1.4551], grad_fn=<SqueezeBackward4>)\n",
            "atten_score_2:  tensor([1.2705, 1.8524, 1.8111, 1.0795, 0.5577, 1.5440],\n",
            "       grad_fn=<SqueezeBackward4>)\n",
            "tensor([0.1500, 0.2264, 0.2199, 0.1311, 0.0906, 0.1820],\n",
            "       grad_fn=<SoftmaxBackward0>)\n",
            "tensor([0.3061, 0.8210], grad_fn=<SqueezeBackward4>)\n"
          ]
        }
      ]
    },
    {
      "cell_type": "code",
      "source": [
        "import torch.nn as nn\n",
        "class SelfAttention_v1(nn.Module):\n",
        "  def __init__(self, d_in, d_out) -> None:\n",
        "    super().__init__()\n",
        "    self.W_q = nn.Parameter(torch.rand(d_in, d_out))\n",
        "    self.W_k = nn.Parameter(torch.rand(d_in, d_out))\n",
        "    self.W_v = nn.Parameter(torch.rand(d_in, d_out))\n",
        "\n",
        "  def forward(self, x):\n",
        "    keys = x @ self.W_k\n",
        "    values = x @ self.W_v\n",
        "    queries = x @ self.W_q\n",
        "    atten_score = queries @ keys.T\n",
        "    attn_weights = torch.softmax(atten_score /  keys.shape[-1]**0.5, dim = -1)\n",
        "    context_vec = attn_weights @ values\n",
        "    return context_vec\n",
        "torch.manual_seed(123)\n",
        "sa_v1 = SelfAttention_v1(d_in, d_out) # d_in = 3 (embedding dimension), d_out = 2, output dimension\n",
        "print(sa_v1(inputs))"
      ],
      "metadata": {
        "colab": {
          "base_uri": "https://localhost:8080/"
        },
        "id": "YEi0INMh641y",
        "outputId": "318fc25f-210b-4056-f9b1-4e5910d4b870"
      },
      "execution_count": 79,
      "outputs": [
        {
          "output_type": "stream",
          "name": "stdout",
          "text": [
            "tensor([[0.2996, 0.8053],\n",
            "        [0.3061, 0.8210],\n",
            "        [0.3058, 0.8203],\n",
            "        [0.2948, 0.7939],\n",
            "        [0.2927, 0.7891],\n",
            "        [0.2990, 0.8040]], grad_fn=<MmBackward0>)\n"
          ]
        }
      ]
    },
    {
      "cell_type": "code",
      "source": [
        "# using built in pytorch nn.Linear\n",
        "class SelfAttention_v2(nn.Module):\n",
        "  def __init__(self, d_in, d_out, qkv_bias=False) -> None:\n",
        "    super().__init__()\n",
        "    self.W_q = nn.Linear(d_in, d_out, bias=qkv_bias)\n",
        "    self.W_k = nn.Linear(d_in, d_out, bias=qkv_bias)\n",
        "    self.W_v = nn.Linear(d_in, d_out, bias=qkv_bias)\n",
        "  def forward(self, x):\n",
        "    keys = self.W_k(x)\n",
        "    values = self.W_v(x)\n",
        "    queries = self.W_q(x)\n",
        "    atten_scores = queries @ keys.T # done this way instead of V^T Q since want each row to correspond to same attention vector, which means each row needs same query\n",
        "    atten_weights = torch.softmax(atten_scores /  keys.shape[-1]**0.5, dim = -1)\n",
        "    context_vec = atten_weights @ values\n",
        "    return context_vec\n",
        "torch.manual_seed(789)\n",
        "sa_v2 = SelfAttention_v2(d_in, d_out)\n",
        "# print(sa_v2(inputs))\n",
        "target_state_dict = sa_v1.state_dict()\n",
        "print(sa_v1(inputs))\n",
        "# for name, param in sa_v2.state_dict().items():\n",
        "for name, param in target_state_dict.items():\n",
        "  if name + \".weight\" in sa_v2.state_dict():\n",
        "    target_state_dict[name].copy_(sa_v2.state_dict()[name + \".weight\"].T)\n",
        "  # target_state_dict[name].copy_(param)\n",
        "# sa_v2.load_state_dict(target_state_dict)\n",
        "print(sa_v2(inputs))\n",
        "print(sa_v1(inputs))"
      ],
      "metadata": {
        "colab": {
          "base_uri": "https://localhost:8080/"
        },
        "collapsed": true,
        "id": "QZRwQB4hAg1f",
        "outputId": "74e941f2-8db9-407e-e1c2-a210cd161d21"
      },
      "execution_count": 80,
      "outputs": [
        {
          "output_type": "stream",
          "name": "stdout",
          "text": [
            "tensor([[0.2996, 0.8053],\n",
            "        [0.3061, 0.8210],\n",
            "        [0.3058, 0.8203],\n",
            "        [0.2948, 0.7939],\n",
            "        [0.2927, 0.7891],\n",
            "        [0.2990, 0.8040]], grad_fn=<MmBackward0>)\n",
            "tensor([[-0.0739,  0.0713],\n",
            "        [-0.0748,  0.0703],\n",
            "        [-0.0749,  0.0702],\n",
            "        [-0.0760,  0.0685],\n",
            "        [-0.0763,  0.0679],\n",
            "        [-0.0754,  0.0693]], grad_fn=<MmBackward0>)\n",
            "tensor([[-0.0739,  0.0713],\n",
            "        [-0.0748,  0.0703],\n",
            "        [-0.0749,  0.0702],\n",
            "        [-0.0760,  0.0685],\n",
            "        [-0.0763,  0.0679],\n",
            "        [-0.0754,  0.0693]], grad_fn=<MmBackward0>)\n"
          ]
        }
      ]
    },
    {
      "cell_type": "code",
      "source": [
        "queries = sa_v2.W_q(inputs)\n",
        "keys = sa_v2.W_k(inputs)\n",
        "values = sa_v2.W_v(inputs)\n",
        "atten_scores = queries @ keys.T\n",
        "atten_weights = torch.softmax(atten_scores /  keys.shape[-1]**0.5, dim = -1)\n",
        "print(atten_weights)\n",
        "# context_vec = atten_weights @ values\n",
        "# print(context_vec)\n",
        "context_length = atten_scores.shape[0]\n",
        "mask = torch.tril(torch.ones(context_length, context_length))\n",
        "print(\"mask: \", mask)\n",
        "masked_simple = atten_weights * mask\n",
        "print(masked_simple)\n",
        "row_sums = masked_simple.sum(dim=-1, keepdim=True)\n",
        "masked_simple_norm = masked_simple / row_sums\n",
        "print(masked_simple_norm)"
      ],
      "metadata": {
        "colab": {
          "base_uri": "https://localhost:8080/"
        },
        "id": "bJxpFpDRMLBx",
        "outputId": "e648f88a-cb01-4140-e04f-c0858e1688f2"
      },
      "execution_count": 95,
      "outputs": [
        {
          "output_type": "stream",
          "name": "stdout",
          "text": [
            "tensor([[0.1921, 0.1646, 0.1652, 0.1550, 0.1721, 0.1510],\n",
            "        [0.2041, 0.1659, 0.1662, 0.1496, 0.1665, 0.1477],\n",
            "        [0.2036, 0.1659, 0.1662, 0.1498, 0.1664, 0.1480],\n",
            "        [0.1869, 0.1667, 0.1668, 0.1571, 0.1661, 0.1564],\n",
            "        [0.1830, 0.1669, 0.1670, 0.1588, 0.1658, 0.1585],\n",
            "        [0.1935, 0.1663, 0.1666, 0.1542, 0.1666, 0.1529]],\n",
            "       grad_fn=<SoftmaxBackward0>)\n",
            "mask:  tensor([[1., 0., 0., 0., 0., 0.],\n",
            "        [1., 1., 0., 0., 0., 0.],\n",
            "        [1., 1., 1., 0., 0., 0.],\n",
            "        [1., 1., 1., 1., 0., 0.],\n",
            "        [1., 1., 1., 1., 1., 0.],\n",
            "        [1., 1., 1., 1., 1., 1.]])\n",
            "tensor([[0.1921, 0.0000, 0.0000, 0.0000, 0.0000, 0.0000],\n",
            "        [0.2041, 0.1659, 0.0000, 0.0000, 0.0000, 0.0000],\n",
            "        [0.2036, 0.1659, 0.1662, 0.0000, 0.0000, 0.0000],\n",
            "        [0.1869, 0.1667, 0.1668, 0.1571, 0.0000, 0.0000],\n",
            "        [0.1830, 0.1669, 0.1670, 0.1588, 0.1658, 0.0000],\n",
            "        [0.1935, 0.1663, 0.1666, 0.1542, 0.1666, 0.1529]],\n",
            "       grad_fn=<MulBackward0>)\n",
            "tensor([[1.0000, 0.0000, 0.0000, 0.0000, 0.0000, 0.0000],\n",
            "        [0.5517, 0.4483, 0.0000, 0.0000, 0.0000, 0.0000],\n",
            "        [0.3800, 0.3097, 0.3103, 0.0000, 0.0000, 0.0000],\n",
            "        [0.2758, 0.2460, 0.2462, 0.2319, 0.0000, 0.0000],\n",
            "        [0.2175, 0.1983, 0.1984, 0.1888, 0.1971, 0.0000],\n",
            "        [0.1935, 0.1663, 0.1666, 0.1542, 0.1666, 0.1529]],\n",
            "       grad_fn=<DivBackward0>)\n"
          ]
        }
      ]
    },
    {
      "cell_type": "code",
      "source": [
        "mask = torch.triu(torch.ones(context_length, context_length), diagonal=1)\n",
        "masked = atten_scores.masked_fill(mask.bool(), -torch.inf)\n",
        "print(masked)\n",
        "atten_weights = torch.softmax(masked / keys.shape[-1]**0.5, dim = -1)\n",
        "print(atten_weights)"
      ],
      "metadata": {
        "colab": {
          "base_uri": "https://localhost:8080/"
        },
        "id": "cukn4QDvPEgf",
        "outputId": "063b54b1-6bbb-4d9a-ed75-c21a752b29a7"
      },
      "execution_count": 108,
      "outputs": [
        {
          "output_type": "stream",
          "name": "stdout",
          "text": [
            "tensor([[0.2899,   -inf,   -inf,   -inf,   -inf,   -inf],\n",
            "        [0.4656, 0.1723,   -inf,   -inf,   -inf,   -inf],\n",
            "        [0.4594, 0.1703, 0.1731,   -inf,   -inf,   -inf],\n",
            "        [0.2642, 0.1024, 0.1036, 0.0186,   -inf,   -inf],\n",
            "        [0.2183, 0.0874, 0.0882, 0.0177, 0.0786,   -inf],\n",
            "        [0.3408, 0.1270, 0.1290, 0.0198, 0.1290, 0.0078]],\n",
            "       grad_fn=<MaskedFillBackward0>)\n",
            "tensor([[1.0000, 0.0000, 0.0000, 0.0000, 0.0000, 0.0000],\n",
            "        [0.5517, 0.4483, 0.0000, 0.0000, 0.0000, 0.0000],\n",
            "        [0.3800, 0.3097, 0.3103, 0.0000, 0.0000, 0.0000],\n",
            "        [0.2758, 0.2460, 0.2462, 0.2319, 0.0000, 0.0000],\n",
            "        [0.2175, 0.1983, 0.1984, 0.1888, 0.1971, 0.0000],\n",
            "        [0.1935, 0.1663, 0.1666, 0.1542, 0.1666, 0.1529]],\n",
            "       grad_fn=<SoftmaxBackward0>)\n"
          ]
        }
      ]
    },
    {
      "cell_type": "code",
      "source": [
        "torch.manual_seed(123)\n",
        "dropout = torch.nn.Dropout(0.5)\n",
        "all_ones = torch.ones(6, 6)\n",
        "print(all_ones, dropout(all_ones))"
      ],
      "metadata": {
        "colab": {
          "base_uri": "https://localhost:8080/"
        },
        "id": "OYjENoTOQTYF",
        "outputId": "a9687a29-58ea-476d-d731-deb9060fa431"
      },
      "execution_count": 116,
      "outputs": [
        {
          "output_type": "stream",
          "name": "stdout",
          "text": [
            "tensor([[1., 1., 1., 1., 1., 1.],\n",
            "        [1., 1., 1., 1., 1., 1.],\n",
            "        [1., 1., 1., 1., 1., 1.],\n",
            "        [1., 1., 1., 1., 1., 1.],\n",
            "        [1., 1., 1., 1., 1., 1.],\n",
            "        [1., 1., 1., 1., 1., 1.]]) tensor([[2., 2., 2., 2., 2., 2.],\n",
            "        [0., 2., 0., 0., 0., 0.],\n",
            "        [0., 0., 2., 0., 2., 0.],\n",
            "        [2., 2., 0., 0., 0., 2.],\n",
            "        [2., 0., 0., 0., 0., 2.],\n",
            "        [0., 2., 0., 0., 0., 0.]])\n",
            "tensor([[2.0000, 0.0000, 0.0000, 0.0000, 0.0000, 0.0000],\n",
            "        [0.0000, 0.8966, 0.0000, 0.0000, 0.0000, 0.0000],\n",
            "        [0.0000, 0.0000, 0.6206, 0.0000, 0.0000, 0.0000],\n",
            "        [0.5517, 0.4921, 0.0000, 0.0000, 0.0000, 0.0000],\n",
            "        [0.4350, 0.0000, 0.0000, 0.0000, 0.0000, 0.0000],\n",
            "        [0.0000, 0.3327, 0.0000, 0.0000, 0.0000, 0.0000]],\n",
            "       grad_fn=<MulBackward0>)\n"
          ]
        }
      ]
    },
    {
      "cell_type": "code",
      "source": [
        "torch.manual_seed(123)\n",
        "print(dropout(atten_weights))"
      ],
      "metadata": {
        "colab": {
          "base_uri": "https://localhost:8080/"
        },
        "id": "Z2VKX0UaSuXb",
        "outputId": "c0c19265-02f6-4928-f4bf-6cf36d657e71"
      },
      "execution_count": 118,
      "outputs": [
        {
          "output_type": "stream",
          "name": "stdout",
          "text": [
            "tensor([[2.0000, 0.0000, 0.0000, 0.0000, 0.0000, 0.0000],\n",
            "        [0.0000, 0.8966, 0.0000, 0.0000, 0.0000, 0.0000],\n",
            "        [0.0000, 0.0000, 0.6206, 0.0000, 0.0000, 0.0000],\n",
            "        [0.5517, 0.4921, 0.0000, 0.0000, 0.0000, 0.0000],\n",
            "        [0.4350, 0.0000, 0.0000, 0.0000, 0.0000, 0.0000],\n",
            "        [0.0000, 0.3327, 0.0000, 0.0000, 0.0000, 0.0000]],\n",
            "       grad_fn=<MulBackward0>)\n"
          ]
        }
      ]
    },
    {
      "cell_type": "code",
      "source": [
        "batch = torch.stack((inputs, inputs), dim=0); batch1 = torch.stack((inputs, inputs), dim=1)\n"
      ],
      "metadata": {
        "id": "Dp2FObT3T6NI"
      },
      "execution_count": 123,
      "outputs": []
    },
    {
      "cell_type": "code",
      "source": [
        "class CasualAttention_v1(nn.Module):\n",
        "  def __init__(self, d_in, d_out, context_length, dropout, qkv_bias=False) -> None:\n",
        "    super().__init__()\n",
        "    self.d_out = d_out\n",
        "    self.W_q = nn.Linear(d_in, d_out, bias=qkv_bias)\n",
        "    self.W_k = nn.Linear(d_in, d_out, bias=qkv_bias)\n",
        "    self.W_v = nn.Linear(d_in, d_out, bias=qkv_bias)\n",
        "    self.Dropout = nn.Dropout(dropout)\n",
        "    self.register_buffer(\"mask\", torch.triu(torch.ones(context_length, context_length), diagonal=1))\n",
        "  def forward(self, x):\n",
        "    b, num_tokens, d_in = x.shape\n",
        "    keys = self.W_k(x)\n",
        "    values = self.W_v(x)\n",
        "    queries = self.W_q(x)\n",
        "    atten_scores = queries @ keys.transpose(1,2)  # batch matrix multiplication. Treat each batch element as a 2D matrix and then have a batch of resulting 2D matrices\n",
        "    atten_scores.masked_fill_(self.mask.bool()[:num_tokens, :num_tokens], -torch.inf)\n",
        "    atten_weights = torch.softmax(atten_scores /  keys.shape[-1]**0.5, dim = -1)\n",
        "    atten_weights = self.Dropout(atten_weights)\n",
        "    context_vec = atten_weights @ values\n",
        "    return context_vec\n",
        "# Wrapper class for multi-head attention. Just stacks CasualAttention_v1\n",
        "class MultiHeadAttention(nn.Module):\n",
        "  def __init__(self, d_in, d_out, context_length, dropout, num_heads, qkv_bias=False) -> None:\n",
        "    super().__init__()\n",
        "    self.heads = nn.ModuleList([CasualAttention_v1(d_in, d_out, context_length, dropout, qkv_bias) for _ in range(num_heads)])\n",
        "  def forward(self, x):\n",
        "    return torch.cat([head(x) for head in self.heads], dim = -1)"
      ],
      "metadata": {
        "id": "-AcD2epvUSvy"
      },
      "execution_count": 153,
      "outputs": []
    },
    {
      "cell_type": "code",
      "source": [
        "torch.manual_seed(123)\n",
        "d_in, d_out = 3, 2\n",
        "context_length = batch.shape[1]\n",
        "ca = CasualAttention_v1(d_in, d_out, context_length, 0.0)\n",
        "context_vecs = ca(batch)\n",
        "print(\"context_vecs.shape:\", context_vecs.shape)\n",
        "torch.manual_seed(123)\n",
        "context_length = batch.shape[1] # number of tokens in a single context/batch element\n",
        "d_in, d_out = 3, 1\n",
        "mha = MultiHeadAttention(d_in, d_out, context_length, 0.0, 2)\n",
        "print(mha(batch))\n",
        "print(mha(batch).shape)\n",
        "print(batch)\n"
      ],
      "metadata": {
        "colab": {
          "base_uri": "https://localhost:8080/"
        },
        "id": "7gcnX9krYJcB",
        "outputId": "332983a7-333b-4de7-f235-b2eab5e117cb"
      },
      "execution_count": 168,
      "outputs": [
        {
          "output_type": "stream",
          "name": "stdout",
          "text": [
            "context_vecs.shape: torch.Size([2, 6, 2])\n",
            "tensor([[[-0.5740,  0.2216],\n",
            "         [-0.7320,  0.0155],\n",
            "         [-0.7774, -0.0546],\n",
            "         [-0.6979, -0.0817],\n",
            "         [-0.6538, -0.0957],\n",
            "         [-0.6424, -0.1065]],\n",
            "\n",
            "        [[-0.5740,  0.2216],\n",
            "         [-0.7320,  0.0155],\n",
            "         [-0.7774, -0.0546],\n",
            "         [-0.6979, -0.0817],\n",
            "         [-0.6538, -0.0957],\n",
            "         [-0.6424, -0.1065]]], grad_fn=<CatBackward0>)\n",
            "torch.Size([2, 6, 2])\n",
            "tensor([[[0.4300, 0.1500, 0.8900],\n",
            "         [0.5500, 0.8700, 0.6600],\n",
            "         [0.5700, 0.8500, 0.6400],\n",
            "         [0.2200, 0.5800, 0.3300],\n",
            "         [0.7700, 0.2500, 0.1000],\n",
            "         [0.0500, 0.8000, 0.5500]],\n",
            "\n",
            "        [[0.4300, 0.1500, 0.8900],\n",
            "         [0.5500, 0.8700, 0.6600],\n",
            "         [0.5700, 0.8500, 0.6400],\n",
            "         [0.2200, 0.5800, 0.3300],\n",
            "         [0.7700, 0.2500, 0.1000],\n",
            "         [0.0500, 0.8000, 0.5500]]])\n"
          ]
        }
      ]
    }
  ]
}