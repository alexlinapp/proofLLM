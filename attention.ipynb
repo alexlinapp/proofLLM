{
  "nbformat": 4,
  "nbformat_minor": 0,
  "metadata": {
    "colab": {
      "provenance": [],
      "authorship_tag": "ABX9TyMTVDU5LAlVKYz7CFjAKLfo",
      "include_colab_link": true
    },
    "kernelspec": {
      "name": "python3",
      "display_name": "Python 3"
    },
    "language_info": {
      "name": "python"
    }
  },
  "cells": [
    {
      "cell_type": "markdown",
      "metadata": {
        "id": "view-in-github",
        "colab_type": "text"
      },
      "source": [
        "<a href=\"https://colab.research.google.com/github/alexlinapp/proofLLM/blob/main/attention.ipynb\" target=\"_parent\"><img src=\"https://colab.research.google.com/assets/colab-badge.svg\" alt=\"Open In Colab\"/></a>"
      ]
    },
    {
      "cell_type": "code",
      "execution_count": 1,
      "metadata": {
        "colab": {
          "base_uri": "https://localhost:8080/"
        },
        "id": "l6oLpReA3Vst",
        "outputId": "70f78d19-9759-4770-b618-ff96bd76b5aa"
      },
      "outputs": [
        {
          "output_type": "stream",
          "name": "stdout",
          "text": [
            "torch version: 2.6.0+cu124\n"
          ]
        }
      ],
      "source": [
        "from importlib.metadata import version\n",
        "\n",
        "print(\"torch version:\", version(\"torch\"))"
      ]
    },
    {
      "cell_type": "code",
      "source": [
        "import torch\n",
        "inputs = torch.tensor(\n",
        "  [[0.43, 0.15, 0.89], # Your     (x^1)\n",
        "   [0.55, 0.87, 0.66], # journey  (x^2)\n",
        "   [0.57, 0.85, 0.64], # starts   (x^3)\n",
        "   [0.22, 0.58, 0.33], # with     (x^4)\n",
        "   [0.77, 0.25, 0.10], # one      (x^5)\n",
        "   [0.05, 0.80, 0.55]] # step     (x^6)\n",
        ")\n",
        "query = inputs[1]\n",
        "attention_scores = torch.empty(inputs.shape[0])\n",
        "for i, xi in enumerate(inputs):\n",
        "  attention_scores[i] = torch.dot(query, xi)\n",
        "attention_scores, inputs.shape\n",
        "attention_scores_normalized = attention_scores / torch.sum(attention_scores)\n",
        "attention_scores_normalized, attention_scores, query.shape"
      ],
      "metadata": {
        "colab": {
          "base_uri": "https://localhost:8080/"
        },
        "id": "AgM9gwhn35_-",
        "outputId": "862233f2-d04b-4d6f-b508-958d47b48965"
      },
      "execution_count": 122,
      "outputs": [
        {
          "output_type": "execute_result",
          "data": {
            "text/plain": [
              "(tensor([0.1455, 0.2278, 0.2249, 0.1285, 0.1077, 0.1656]),\n",
              " tensor([0.9544, 1.4950, 1.4754, 0.8434, 0.7070, 1.0865]),\n",
              " torch.Size([3]))"
            ]
          },
          "metadata": {},
          "execution_count": 122
        }
      ]
    },
    {
      "cell_type": "code",
      "source": [
        "context_vec_2 = torch.zeros(query.shape)\n",
        "for i, xi in enumerate(inputs):\n",
        "  context_vec_2 += attention_scores_normalized[i] * xi\n",
        "  print(attention_scores_normalized[i].shape, xi.shape) # attention_scores_normalized is a vector containing the attention weights of each item imbedding\n",
        "  # , xi is the actual input/item embedding\n",
        "context_vec_2.shape\n"
      ],
      "metadata": {
        "colab": {
          "base_uri": "https://localhost:8080/"
        },
        "id": "qxnndBkmIXuU",
        "outputId": "f82180e7-833d-4534-b210-b2bb6d62ec9f"
      },
      "execution_count": 13,
      "outputs": [
        {
          "output_type": "stream",
          "name": "stdout",
          "text": [
            "torch.Size([]) torch.Size([3])\n",
            "torch.Size([]) torch.Size([3])\n",
            "torch.Size([]) torch.Size([3])\n",
            "torch.Size([]) torch.Size([3])\n",
            "torch.Size([]) torch.Size([3])\n",
            "torch.Size([]) torch.Size([3])\n"
          ]
        },
        {
          "output_type": "execute_result",
          "data": {
            "text/plain": [
              "torch.Size([3])"
            ]
          },
          "metadata": {},
          "execution_count": 13
        }
      ]
    },
    {
      "cell_type": "code",
      "source": [
        "# compute all context vectors\n",
        "atten_scores = torch.empty(inputs.shape[0], inputs.shape[0])\n",
        "for i, x_i in enumerate(inputs):\n",
        "  for j, x_j in enumerate(inputs):\n",
        "    atten_scores[i, j] = torch.dot(x_i, x_j)\n",
        "print(atten_scores)\n",
        "# using for loops is too slow, notice we can use matrix multiplication\n",
        "atten_score_matrix = inputs @ inputs.T\n",
        "atten_score_matrix == atten_scores, atten_score_matrix\n",
        "atten_weights = torch.softmax(atten_scores, dim=-1)\n",
        "allcontext_vecs = atten_weights @ inputs\n",
        "# To see this,\n",
        "# --------------------\n",
        "#   w1 = {w_{1,1}, w_{1,2}, ..., w_{1,n}} |   | a_1 = {a_{1,1}, a{1,2}, a_{1,3}}\n",
        "#   w2 = .....                            |   | a_2 = {a{2,1}, ...}\n",
        "#                                             |\n",
        "allcontext_vecs"
      ],
      "metadata": {
        "colab": {
          "base_uri": "https://localhost:8080/"
        },
        "id": "kH40qic5KCRv",
        "outputId": "a6a19ad6-27ae-4078-efa9-92147b80d796"
      },
      "execution_count": 34,
      "outputs": [
        {
          "output_type": "stream",
          "name": "stdout",
          "text": [
            "tensor([[0.9995, 0.9544, 0.9422, 0.4753, 0.4576, 0.6310],\n",
            "        [0.9544, 1.4950, 1.4754, 0.8434, 0.7070, 1.0865],\n",
            "        [0.9422, 1.4754, 1.4570, 0.8296, 0.7154, 1.0605],\n",
            "        [0.4753, 0.8434, 0.8296, 0.4937, 0.3474, 0.6565],\n",
            "        [0.4576, 0.7070, 0.7154, 0.3474, 0.6654, 0.2935],\n",
            "        [0.6310, 1.0865, 1.0605, 0.6565, 0.2935, 0.9450]])\n"
          ]
        },
        {
          "output_type": "execute_result",
          "data": {
            "text/plain": [
              "tensor([[0.4421, 0.5931, 0.5790],\n",
              "        [0.4419, 0.6515, 0.5683],\n",
              "        [0.4431, 0.6496, 0.5671],\n",
              "        [0.4304, 0.6298, 0.5510],\n",
              "        [0.4671, 0.5910, 0.5266],\n",
              "        [0.4177, 0.6503, 0.5645]])"
            ]
          },
          "metadata": {},
          "execution_count": 34
        }
      ]
    },
    {
      "cell_type": "code",
      "source": [
        "# Self-attention with trainable weights\n",
        "x_2 = inputs[1];  # second input element\n",
        "# print(x_2.shape)\n",
        "print(\"x2: \", x_2)\n",
        "d_in = inputs.shape[1]  # input embedding dimension\n",
        "d_out = 2               # output embedding dimension\n",
        "torch.manual_seed(123)\n",
        "W_query = torch.nn.Parameter(torch.rand(d_in, d_out))\n",
        "W_key = torch.nn.Parameter(torch.rand(d_in, d_out))\n",
        "W_value = torch.nn.Parameter(torch.rand(d_in, d_out))\n",
        "print(W_query, W_value, W_key)\n",
        "query_2 = x_2 @ W_query\n",
        "key_2 = x_2 @ W_key\n",
        "value_2 = x_2 @ W_value\n",
        "# print(query_2.shape, key_2.shape, value_2.shape)\n",
        "print(\"qyery2: \", query_2)\n",
        "keys = inputs @ W_key\n",
        "values = inputs @ W_value\n",
        "# print(keys.shape, values.shape)\n",
        "keys2 = keys[1]\n",
        "atten_score_22 = query_2.dot(keys2)#torch.dot(query_2, keys2)\n",
        "# print(\"atten_score_22\", atten_score_22)\n",
        "atten_score_2 = query_2 @ keys.T\n",
        "# print(\"query_2 shape: \", query_2.shape)\n",
        "# print(\"keys shape: \", keys.shape)\n",
        "print(\"atten_score_2: \", atten_score_2)\n",
        "d_k = keys.shape[1]\n",
        "atten_weights_2 = torch.softmax(atten_score_2 /  d_k**0.5, dim = -1) #  sqrt used to prevent sharp gradients during training\n",
        "print(atten_weights_2)\n",
        "context_vec_2 = atten_weights_2 @ values\n",
        "print(context_vec_2)\n",
        "# print(keys, keys2)"
      ],
      "metadata": {
        "colab": {
          "base_uri": "https://localhost:8080/"
        },
        "id": "KN7Gm50dO4lA",
        "outputId": "0c198bf6-fd7e-4caa-959e-dbbd75bff306"
      },
      "execution_count": 141,
      "outputs": [
        {
          "output_type": "stream",
          "name": "stdout",
          "text": [
            "x2:  tensor([0.5500, 0.8700, 0.6600])\n",
            "Parameter containing:\n",
            "tensor([[0.2961, 0.5166],\n",
            "        [0.2517, 0.6886],\n",
            "        [0.0740, 0.8665]], requires_grad=True) Parameter containing:\n",
            "tensor([[0.0756, 0.1966],\n",
            "        [0.3164, 0.4017],\n",
            "        [0.1186, 0.8274]], requires_grad=True) Parameter containing:\n",
            "tensor([[0.1366, 0.1025],\n",
            "        [0.1841, 0.7264],\n",
            "        [0.3153, 0.6871]], requires_grad=True)\n",
            "qyery2:  tensor([0.4306, 1.4551], grad_fn=<SqueezeBackward4>)\n",
            "atten_score_2:  tensor([1.2705, 1.8524, 1.8111, 1.0795, 0.5577, 1.5440],\n",
            "       grad_fn=<SqueezeBackward4>)\n",
            "tensor([0.1500, 0.2264, 0.2199, 0.1311, 0.0906, 0.1820],\n",
            "       grad_fn=<SoftmaxBackward0>)\n",
            "tensor([0.3061, 0.8210], grad_fn=<SqueezeBackward4>)\n"
          ]
        }
      ]
    }
  ]
}