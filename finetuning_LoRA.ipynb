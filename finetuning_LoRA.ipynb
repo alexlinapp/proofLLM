{
  "nbformat": 4,
  "nbformat_minor": 0,
  "metadata": {
    "colab": {
      "provenance": [],
      "gpuType": "T4",
      "authorship_tag": "ABX9TyNRxLlibS1scCk9huV5RhjW",
      "include_colab_link": true
    },
    "kernelspec": {
      "name": "python3",
      "display_name": "Python 3"
    },
    "language_info": {
      "name": "python"
    },
    "accelerator": "GPU"
  },
  "cells": [
    {
      "cell_type": "markdown",
      "metadata": {
        "id": "view-in-github",
        "colab_type": "text"
      },
      "source": [
        "<a href=\"https://colab.research.google.com/github/alexlinapp/proofLLM/blob/main/finetuning_LoRA.ipynb\" target=\"_parent\"><img src=\"https://colab.research.google.com/assets/colab-badge.svg\" alt=\"Open In Colab\"/></a>"
      ]
    },
    {
      "cell_type": "code",
      "execution_count": 47,
      "metadata": {
        "colab": {
          "base_uri": "https://localhost:8080/"
        },
        "id": "5AaPO7N34Q6C",
        "outputId": "386f1f26-45f4-4448-df48-e5f3f922e011"
      },
      "outputs": [
        {
          "output_type": "stream",
          "name": "stdout",
          "text": [
            "sms_spam_collection/SMSSpamCollection.tsv already exists. Skipping download and extraction.\n"
          ]
        }
      ],
      "source": [
        "from pathlib import Path\n",
        "import pandas as pd\n",
        "import torch\n",
        "from torch.utils.data import Dataset\n",
        "from torch.utils.data import DataLoader\n",
        "import tiktoken\n",
        "'''\n",
        "\n",
        "Download boilerplate code from gpt_download.py\n",
        "\n",
        "'''\n",
        "import importlib\n",
        "import urllib.request\n",
        "url = (\n",
        " \"https://raw.githubusercontent.com/rasbt/\"\n",
        " \"LLMs-from-scratch/main/ch05/\"\n",
        " \"01_main-chapter-code/gpt_download.py\"\n",
        ")\n",
        "filename = url.split('/')[-1]\n",
        "file_name, _ = urllib.request.urlretrieve(url, filename)\n",
        "\n",
        "\n",
        "from gpt_class_finetune import *\n",
        "import importlib\n",
        "import previous_chapters\n",
        "importlib.reload(previous_chapters)\n",
        "from previous_chapters import *\n",
        "url = \\\n",
        "\"https://archive.ics.uci.edu/static/public/228/sms+spam+collection.zip\"\n",
        "zip_path = \"sms_spam_collection.zip\"\n",
        "extracted_path = \"sms_spam_collection\"\n",
        "data_file_path = Path(extracted_path) / \"SMSSpamCollection.tsv\"\n",
        "download_and_unzip_spam_data(url, zip_path, extracted_path, data_file_path)\n",
        "\n",
        "df = pd.read_csv(data_file_path, sep=\"\\t\", header=None, names=[\"Label\", \"Text\"])\n",
        "balanced_df = create_balanced_dataset(df)\n",
        "balanced_df[\"Label\"] = balanced_df[\"Label\"].map({\"ham\" : 0, \"spam\" : 1})\n",
        "\n",
        "train_df, validation_df, test_df = random_split(balanced_df, 0.7, 0.1)\n",
        "train_df.to_csv(\"train.csv\", index=None)\n",
        "validation_df.to_csv(\"validation.csv\", index=None)\n",
        "test_df.to_csv(\"test.csv\", index=None)\n"
      ]
    },
    {
      "cell_type": "code",
      "source": [
        "tokenizer = tiktoken.get_encoding(\"gpt2\")\n",
        "train_dataset = SpamDataset(\"train.csv\", tokenizer, max_length=None)\n",
        "val_dataset = SpamDataset(\"validation.csv\", tokenizer, max_length=None)\n",
        "test_dataset = SpamDataset(\"test.csv\", tokenizer, max_length=None)\n",
        "\n",
        "device = torch.device(\"cuda\" if torch.cuda.is_available() else \"cpu\")\n",
        "num_workers=0\n",
        "batch_size=8\n",
        "torch.manual_seed(123)\n",
        "\n",
        "train_loader = DataLoader(train_dataset, batch_size=batch_size,\n",
        "                          shuffle=True,\n",
        "                          num_workers=num_workers,\n",
        "                          drop_last=True)\n",
        "val_loader = DataLoader(val_dataset, batch_size=batch_size,\n",
        "                        shuffle=False,\n",
        "                        num_workers=num_workers,\n",
        "                        drop_last=False)\n",
        "test_loader = DataLoader(test_dataset, batch_size=batch_size,\n",
        "                         shuffle=False,\n",
        "                         num_workers=num_workers,\n",
        "                         drop_last=False)\n",
        "# print(\"Train Loader: \")\n",
        "# for input, target in train_loader:\n",
        "#   print(input.shape, target.shape)"
      ],
      "metadata": {
        "id": "nX-pRCja-Qi4"
      },
      "execution_count": 48,
      "outputs": []
    },
    {
      "cell_type": "code",
      "source": [
        "CHOOSE_MODEL = \"gpt2-small (124M)\"\n",
        "INPUT_PROMPT = \"Every effort moves\"\n",
        "\n",
        "BASE_CONFIG = {\n",
        "    \"vocab_size\" : 50257,\n",
        "    \"context_length\" : 1024,\n",
        "    \"drop_rate\" : 0.0,\n",
        "    \"qkv_bias\" : True\n",
        "}\n",
        "\n",
        "model_configs = {\n",
        "  \"gpt2-small (124M)\": {\"emb_dim\": 768, \"n_layers\": 12, \"n_heads\": 12},\n",
        "  \"gpt2-medium (355M)\": {\"emb_dim\": 1024, \"n_layers\": 24, \"n_heads\": 16},\n",
        "  \"gpt2-large (774M)\": {\"emb_dim\": 1280, \"n_layers\": 36, \"n_heads\": 20},\n",
        "  \"gpt2-xl (1558M)\": {\"emb_dim\": 1600, \"n_layers\": 48, \"n_heads\": 25},\n",
        "}\n",
        "\n",
        "BASE_CONFIG.update(model_configs[CHOOSE_MODEL])\n",
        "model_size = CHOOSE_MODEL.split(\" \")[-1].lstrip(\"(\").rstrip(\")\")\n",
        "settings, params = download_and_load_gpt2(model_size=model_size, models_dir=\"gpt2\")\n",
        "model = GPTModel(BASE_CONFIG)\n",
        "load_weights_into_gpt(model, params)\n",
        "model.eval();"
      ],
      "metadata": {
        "colab": {
          "base_uri": "https://localhost:8080/"
        },
        "id": "ORsa9DL-_ndb",
        "outputId": "101586dd-907c-4cb2-fa47-3866edc99ee2"
      },
      "execution_count": 49,
      "outputs": [
        {
          "output_type": "stream",
          "name": "stdout",
          "text": [
            "File already exists and is up-to-date: gpt2/124M/checkpoint\n",
            "File already exists and is up-to-date: gpt2/124M/encoder.json\n",
            "File already exists and is up-to-date: gpt2/124M/hparams.json\n",
            "File already exists and is up-to-date: gpt2/124M/model.ckpt.data-00000-of-00001\n",
            "File already exists and is up-to-date: gpt2/124M/model.ckpt.index\n",
            "File already exists and is up-to-date: gpt2/124M/model.ckpt.meta\n",
            "File already exists and is up-to-date: gpt2/124M/vocab.bpe\n"
          ]
        }
      ]
    },
    {
      "cell_type": "code",
      "source": [
        "torch.manual_seed(123)\n",
        "model.out_head = torch.nn.Linear(BASE_CONFIG[\"emb_dim\"], 2)\n",
        "device = torch.device(\"cuda\" if torch.cuda.is_available() else \"cpu\")\n",
        "model = model.to(device)\n",
        "# for parameters in model.parameters():\n",
        "#   parameters.requires_grad = False\n",
        "# for parameters in model.out_head.parameters():\n",
        "#   parameters.requires_grad = True"
      ],
      "metadata": {
        "id": "e_q2m4vIDUyo"
      },
      "execution_count": 51,
      "outputs": []
    },
    {
      "cell_type": "code",
      "source": [
        "torch.manual_seed(123)\n",
        "\n",
        "train_acc = calc_accuracy_loader(train_loader, model, device, num_batches=10)\n",
        "val_acc = calc_accuracy_loader(val_loader, model, device, num_batches=10)\n",
        "test_acc = calc_accuracy_loader(test_loader, model, device, num_batches=10)\n",
        "\n",
        "print(f\"Train Accuracy: {train_acc}\")\n",
        "print(f\"Validation Accuracy: {val_acc}\")\n",
        "print(f\"Test Accuracy: {test_acc}\")"
      ],
      "metadata": {
        "id": "-vWlZPx5D1-h",
        "colab": {
          "base_uri": "https://localhost:8080/"
        },
        "outputId": "b2b00be3-9927-47a3-9b28-f032bb633c08"
      },
      "execution_count": 52,
      "outputs": [
        {
          "output_type": "stream",
          "name": "stdout",
          "text": [
            "Train Accuracy: 0.4625\n",
            "Validation Accuracy: 0.45\n",
            "Test Accuracy: 0.4875\n"
          ]
        }
      ]
    },
    {
      "cell_type": "code",
      "source": [
        "import math\n",
        "import torch.nn as nn\n",
        "class LoRALayer(nn.Module):\n",
        "  def __init__(self, in_dim, out_dim, rank, alpha):\n",
        "    super().__init__()\n",
        "    self.A = torch.nn.Parameter(torch.empty(in_dim, rank))\n",
        "    torch.nn.init.kaiming_uniform(self.A, a=math.sqrt(5))   # Same initiallization layer used in nn.Linear for Pytorch\n",
        "    self.B = torch.nn.Parameter(torch.zeros(rank, out_dim))\n",
        "    self.alpha = alpha\n",
        "  def forward(self, x):\n",
        "    return (x @ self.A @ self.B) * self.alpha\n",
        "\n",
        "class LinearWithLoRA(nn.Module):\n",
        "  def __init__(self, linear, rank, alpha):\n",
        "    super().__init__()\n",
        "    self.linear = linear\n",
        "    self.lora = LoRALayer(linear.in_features, linear.out_features, rank, alpha)\n",
        "\n",
        "  def forward(self, x):\n",
        "    return self.linear(x) + self.lora(x)\n",
        "\n",
        "\n",
        "def replace_linear_with_lora(model, rank, alpha):\n",
        "  for name, module in model.named_children():\n",
        "    if isinstance(module, torch.nn.Linear):\n",
        "      setattr(model, name, LinearWithLoRA(module, rank, alpha))\n",
        "    else:\n",
        "      replace_linear_with_lora(module, rank, alpha) # recursively applies to modules in children\n"
      ],
      "metadata": {
        "id": "Qn3QjjbQEjVD"
      },
      "execution_count": 53,
      "outputs": []
    },
    {
      "cell_type": "code",
      "source": [
        "for param in model.parameters():\n",
        "  param.requires_grad = False\n",
        "num_parameters = sum(p.numel() for p in model.parameters() if p.requires_grad)\n",
        "print(f\"Number of trainable parameters: {num_parameters}\")\n",
        "replace_linear_with_lora(model, rank=16, alpha=16)\n",
        "num_parameters = sum(p.numel() for p in model.parameters() if p.requires_grad)\n",
        "print(f\"Number of trainable parameters: {num_parameters}\")"
      ],
      "metadata": {
        "colab": {
          "base_uri": "https://localhost:8080/"
        },
        "id": "cE3KImegIjnw",
        "outputId": "ce2022e7-b714-4144-8f7c-9c0227299562"
      },
      "execution_count": 54,
      "outputs": [
        {
          "output_type": "stream",
          "name": "stdout",
          "text": [
            "Number of trainable parameters: 0\n",
            "Number of trainable parameters: 2666528\n"
          ]
        },
        {
          "output_type": "stream",
          "name": "stderr",
          "text": [
            "/tmp/ipython-input-3309909669.py:7: FutureWarning: `nn.init.kaiming_uniform` is now deprecated in favor of `nn.init.kaiming_uniform_`.\n",
            "  torch.nn.init.kaiming_uniform(self.A, a=math.sqrt(5))   # Same initiallization layer used in nn.Linear for Pytorch\n"
          ]
        }
      ]
    },
    {
      "cell_type": "code",
      "source": [
        "torch.manual_seed(123)\n",
        "model.to(device)\n",
        "train_accuracy = calc_accuracy_loader(\n",
        " train_loader, model, device, num_batches=10\n",
        ")\n",
        "val_accuracy = calc_accuracy_loader(\n",
        " val_loader, model, device, num_batches=10\n",
        ")\n",
        "test_accuracy = calc_accuracy_loader(\n",
        " test_loader, model, device, num_batches=10\n",
        ")\n",
        "print(f\"Training accuracy: {train_accuracy*100:.2f}%\")\n",
        "print(f\"Validation accuracy: {val_accuracy*100:.2f}%\")\n",
        "print(f\"Test accuracy: {test_accuracy*100:.2f}%\")"
      ],
      "metadata": {
        "colab": {
          "base_uri": "https://localhost:8080/"
        },
        "id": "LUrwACCLLMO8",
        "outputId": "9ece620d-a280-44e2-8d23-0803238fac59"
      },
      "execution_count": 55,
      "outputs": [
        {
          "output_type": "stream",
          "name": "stdout",
          "text": [
            "Training accuracy: 46.25%\n",
            "Validation accuracy: 45.00%\n",
            "Test accuracy: 48.75%\n"
          ]
        }
      ]
    },
    {
      "cell_type": "code",
      "source": [
        "import time\n",
        "\n",
        "start_time = time.time()\n",
        "model.to(device)\n",
        "torch.manual_seed(123)\n",
        "optimizer = torch.optim.AdamW(model.parameters(), lr=5e-5, weight_decay=0.1)\n",
        "num_epochs=5\n",
        "train_losses, val_losses, train_accs, val_accs, examples_seen = train_classifier_simple(model,\n",
        "    train_loader,\n",
        "    val_loader,\n",
        "    optimizer,\n",
        "    device,\n",
        "    num_epochs,\n",
        "    eval_freq=50,\n",
        "    eval_iter=5\n",
        ")\n",
        "\n",
        "endtime = time.time()\n",
        "execution_time_minutes = (endtime - start_time) / 60\n",
        "print(f\"Execution time: {execution_time_minutes:.2f} minutes\")\n",
        "\n"
      ],
      "metadata": {
        "colab": {
          "base_uri": "https://localhost:8080/"
        },
        "id": "CKOdH1toJfcM",
        "outputId": "4c9a79a9-372a-4618-f4ae-8a1086d13dcd"
      },
      "execution_count": 56,
      "outputs": [
        {
          "output_type": "stream",
          "name": "stdout",
          "text": [
            "Ep 1 (Step 000000): Train loss 3.820, Val loss 2.495\n",
            "Ep 1 (Step 000050): Train loss 0.396, Val loss 0.373\n",
            "Ep 1 (Step 000100): Train loss 0.111, Val loss 0.194\n",
            "Training accuracy: 97.50% | Validation accuracy: 92.50%\n",
            "Ep 2 (Step 000150): Train loss 0.135, Val loss 0.082\n",
            "Ep 2 (Step 000200): Train loss 0.012, Val loss 0.045\n",
            "Ep 2 (Step 000250): Train loss 0.027, Val loss 0.169\n",
            "Training accuracy: 100.00% | Validation accuracy: 97.50%\n",
            "Ep 3 (Step 000300): Train loss 0.129, Val loss 0.087\n",
            "Ep 3 (Step 000350): Train loss 0.396, Val loss 0.505\n",
            "Training accuracy: 100.00% | Validation accuracy: 95.00%\n",
            "Ep 4 (Step 000400): Train loss 0.006, Val loss 0.128\n",
            "Ep 4 (Step 000450): Train loss 0.013, Val loss 0.120\n",
            "Ep 4 (Step 000500): Train loss 0.052, Val loss 0.162\n",
            "Training accuracy: 100.00% | Validation accuracy: 90.00%\n",
            "Ep 5 (Step 000550): Train loss 0.003, Val loss 0.628\n",
            "Ep 5 (Step 000600): Train loss 0.000, Val loss 0.204\n",
            "Training accuracy: 100.00% | Validation accuracy: 90.00%\n",
            "Execution time: 1.89 minutes\n"
          ]
        }
      ]
    },
    {
      "cell_type": "code",
      "source": [
        "# print(len(params['blocks']), settings)\n",
        "# text_1 = \"Every effort moves you\"\n",
        "# token_ids = generate_text_simple(model, text_to_token_ids(text_1, tokenizer),\n",
        "#                                  15, BASE_CONFIG[\"context_length\"])\n",
        "# print(token_ids_to_text(token_ids, tokenizer))"
      ],
      "metadata": {
        "id": "meER3bR0BIzq"
      },
      "execution_count": null,
      "outputs": []
    }
  ]
}