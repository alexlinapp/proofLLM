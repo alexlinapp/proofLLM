{
  "nbformat": 4,
  "nbformat_minor": 0,
  "metadata": {
    "colab": {
      "provenance": [],
      "authorship_tag": "ABX9TyOi++NSHup0LaqvsjVFvhHV",
      "include_colab_link": true
    },
    "kernelspec": {
      "name": "python3",
      "display_name": "Python 3"
    },
    "language_info": {
      "name": "python"
    }
  },
  "cells": [
    {
      "cell_type": "markdown",
      "metadata": {
        "id": "view-in-github",
        "colab_type": "text"
      },
      "source": [
        "<a href=\"https://colab.research.google.com/github/alexlinapp/proofLLM/blob/main/hf_datasets_template.ipynb\" target=\"_parent\"><img src=\"https://colab.research.google.com/assets/colab-badge.svg\" alt=\"Open In Colab\"/></a>"
      ]
    },
    {
      "cell_type": "code",
      "execution_count": null,
      "metadata": {
        "id": "Uqzj4AzW4526"
      },
      "outputs": [],
      "source": [
        "'''\n",
        "Adapted from the following tutorial: https://huggingface.co/docs/datasets/create_dataset\n",
        "\n",
        "'''\n",
        "\n",
        "\n",
        "from datasets import load_dataset_builder\n",
        "from datasets import load_dataset\n",
        "from datasets import get_dataset_split_names\n",
        "from datasets import get_dataset_config_names\n",
        "# Two main functions: load_dataset(string name) & load_dataset_builder(string name)\n",
        "\n",
        "#   load_dataset_builder() loads a dataset builder andn inspect a dataset's attributes without committing to downloading it\n",
        "ds_builder = load_dataset_builder(\"yelp/yelp_review_full\")\n",
        "\n",
        "print(ds_builder.info.features)\n",
        "\n",
        "# load the actual dataset\n",
        "dataset = load_dataset(\"yelp/yelp_review_full\")\n",
        "\n",
        "# can optinally specify a split parameter in load_dataset, i.e. load_dataset(name, split=\"train\") and return Dataset object\n",
        "# if you don't specify split, returns a DatasetDict object instead of a Dataset object\n",
        "\n",
        "datasetDict = load_dataset(\"yelp/yelp_review_full\")\n",
        "print(\"datasetDict type: \", type(datasetDict))\n",
        "\n",
        "datasetObj = load_dataset(\"yelp/yelp_review_full\", split=\"train\")\n",
        "print(\"datasetObj type: \", type(datasetObj))\n",
        "\n",
        "\n",
        "# get the split names of the dataset\n",
        "get_dataset_split_names(\"yelp/yelp_review_full\")\n",
        "\n",
        "# some datasets have several sub-datasets, also known as configurations\n",
        "configs = get_dataset_config_names(\"polyAI/minds14\")\n",
        "print(configs)"
      ]
    }
  ]
}