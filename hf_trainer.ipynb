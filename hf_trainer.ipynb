{
  "nbformat": 4,
  "nbformat_minor": 0,
  "metadata": {
    "colab": {
      "provenance": [],
      "authorship_tag": "ABX9TyN9JbVHBjzZy5mLa57URIds",
      "include_colab_link": true
    },
    "kernelspec": {
      "name": "python3",
      "display_name": "Python 3"
    },
    "language_info": {
      "name": "python"
    }
  },
  "cells": [
    {
      "cell_type": "markdown",
      "metadata": {
        "id": "view-in-github",
        "colab_type": "text"
      },
      "source": [
        "<a href=\"https://colab.research.google.com/github/alexlinapp/proofLLM/blob/main/hf_trainer.ipynb\" target=\"_parent\"><img src=\"https://colab.research.google.com/assets/colab-badge.svg\" alt=\"Open In Colab\"/></a>"
      ]
    },
    {
      "cell_type": "code",
      "source": [
        "from datasets import load_dataset\n",
        "from transformers import AutoTokenizer\n",
        "\n",
        "dataset = load_dataset(\"yelp_review_full\")\n",
        "tokenizer = AutoTokenizer.from_pretrained(\"google-bert/bert-base-cased\")\n",
        "\n",
        "from datasets import load_dataset_builder\n",
        "\n",
        "\n",
        "\n",
        "# Two main functions: load_dataset(string name) & load_dataset_builder(string name)\n",
        "\n",
        "ds_builder = load_dataset_builder(\"cornell-movie-review-data/rotten_tomatoes\")\n",
        "def tokenize(examples):\n",
        "  return tokenizer(examples[\"text\"], padding=\"max_length\", truncation=True)\n",
        "\n",
        "small_dataset = dataset[\"train\"].shuffle(42).select(range(100))\n",
        "small_dataset = small_dataset.map(tokenize, batched=True)"
      ],
      "metadata": {
        "colab": {
          "base_uri": "https://localhost:8080/",
          "height": 473,
          "referenced_widgets": [
            "3bb6add670af4ac79fa2e240ee5c10e7",
            "abadac70f0724121b509a501b217af17",
            "f2d52a05ea594f3c8ccf472b0b4d43b3",
            "9d6217752bda42cdb9ade990e0a56dfd",
            "1d776e461b834dc39912bf99f61eba7f",
            "8e4e856d24f74b96b7999e22e17ce31f",
            "835378bbe8164f419c0b59e178ad3ecb",
            "24e69bd4db374740b2938caab0318627",
            "dafcb5aebfb24c5897ce24d547ae9571",
            "f95cb5909a2f47c9b6eaa7ec1c1780c7",
            "7e06d32805cc46d1b1a42414c51a2e1b",
            "2f3a89947ec64518af7685327d900bee",
            "e01ece39d5904621988972da6b39484e",
            "641fc6e6df2f487d8ee667cf0dab3a5e",
            "721825cfe27448e5888f84611a06dd59",
            "5ea202ab163a4e56bc0ec7a0f11d8449",
            "67cee14be536422abdacc028245ddf02",
            "9d23155da14f4f00ba6c1119d8ebce9f",
            "8eb093f6c7e148959d260957ee6be42e",
            "d6ffe942df2a49dea30b22df32ca29b9",
            "1c680a880ccb43398adefc6a840fabea",
            "06dda9ced5af48bd9616c3c70414e84c",
            "f3380c30a36c4996b344f34fe750082f",
            "07896d255ac147dc965559ea481fd001",
            "c1db775e090c44e5a05fa9bc10fff611",
            "0d5ffa45a75c44b4a0905d69f4490f56",
            "ca17ca1a855d4c7087f399f76bcfcc5f",
            "eb921dcd152849b09905e578d2ebb481",
            "91c2b7b76f14473c8a9daf9479dc57fa",
            "b94b0b690a634b4da8161e6ee3cfa70b",
            "504658e42be943368c4002ccce7a36ee",
            "5d575d4a340b4fd98685800a93eb6e4a",
            "6b4edd2dcaa142e29d68a57ab8c608ed",
            "41fc5d9ff86a4f22bb1c37e688130d37",
            "beb50ea86e4f470faae97e17037d0f49",
            "b99cec90d91e43aaa973686d10ed8600",
            "159e85d444704fa1a6e397aa6f6a4cd3",
            "ddbd8dd345a9499a8a267c67c8418d97",
            "88f331bf04a3498093d8f9549bc19e86",
            "0042b1b11ee44d0c8d7162c8151ef7ae",
            "69b714baf788448086a46da48f69c2a3",
            "9e30b348ad6149c2b8c964d2fd6a8416",
            "3fe13e052dcd4eca8c4c6beba0ad0cbd",
            "d7ffa454be8f45f08a2d6097cdba75e8",
            "cbdc3070f7df4d3aa52a69a8d6c36803",
            "ec8435a1842b429abb7035f59472b90a",
            "e62bc4b2aead47328638a6cbe56b2510",
            "6ea700d51f8946eeb7d63d1075a2bc19",
            "60c141c5f0924dda8efc609a8bcf6347",
            "fc1e0614117d4775a1b5a6c81a3b2c05",
            "77537d09c0484e4c80606c9dd83c8c75",
            "9589ab1d7d414842ad77c691ba53ee1b",
            "100eb4c21baf4888bd3cb1ada031a35f",
            "411116715fed4eca8afe3e73e5d1db3c",
            "8aec342bc3974deca6b51f195b8df475",
            "506eb10fc3f54e03933611bf90ae8cce",
            "70d36025eef34507b8f8e642f68c05a2",
            "9e8ceee9106d4bb1933c539c754c279b",
            "9fa33a54264842af8966f531dca3da0d",
            "0e1d5a1b9b07408084ab97839440e238",
            "c55af55290d74de2ab430428d7e4073f",
            "7103e47eba2a40769b919d9fd8d8e1f2",
            "8efe17eced204bf58ec924ecbcd4280d",
            "70a4610e983f4fdc90a8cb1febc52f0a",
            "57d7e6f4636847bfa41f069df5564430",
            "d20438ef8cc74ddaa2af1a212b8e8a50",
            "c8a192c796b7404999b65da7ec4a4841",
            "1719c91b521e4ca3901e7fdddf7aa696",
            "c511473d4dac4dd5b63aa09d4db329c7",
            "48a80cf63d444b5a996e8ad9739888cb",
            "949ca02b57624d3f9d2f75ba3ce12495",
            "ca54355185cf489b93aae427e6e3e118",
            "af30fc5d35ac48b8bbd2caa89539dd6d",
            "85befe03abcd429881abe625b8267031",
            "4bca534070d94ce3a9fd703745bed993",
            "e61f517f860e444bbfa2bfdc4fdbe2e3",
            "dfbc57f80a464d8c939e019bc6766125",
            "d6271ad797de4ae3a6e20ee380fad5b5",
            "e1d7f53bc64543f79a39b38a9ba2b327",
            "7d7a98e073114c239a03817f1d3cb2a4",
            "c4cf389162ae4666b31fd157fdbb9a78",
            "7af6f6a5f75f4ca787fec6b7f76a5821",
            "37b1f3120e71463aa01f24aa62b489ce",
            "e365efe88cf34563abf06c7f6a54e8ed",
            "ca89873ac9ef4e54a8f3f447c78c9352",
            "9f9616b30b4d4ccb879c1d9bcd095f58",
            "08c9fc5aa29844e8b55dc50d692a79f9",
            "022accaf5e964fa3b9aa4dcb946b74fa",
            "01f2e6fa325a4fd78803c40e9947f401",
            "6f5a5f8491634892ba748a429548737f",
            "4cab485a1906442b8d2a6a22a4814ee3",
            "b3a6b295a5ad457cb8530aa1684d94fb",
            "36ddf9fe5dd6426da620aa3ce17d2d63",
            "2d8271c7827f4bba8c752b36dbb7dc2e",
            "211253183686467bb310261537b3ba89",
            "657817f1d07b46039392f9ed774ab168",
            "ec5c89b8f2004bafb0f01e0591e4fd6e",
            "c5cc002a891847d18b8c766fca74eabb",
            "a6ce4f3f68f64cadb15c565fcd3ace67",
            "49b0049b4bcb4ec7a2b8f565346109e0",
            "5dbe379567c545fa844b15f71f55fd75",
            "d5ed807872874298a63c48dddf8cac2e",
            "ff9744675a754dbfa9b11fc460ae9dc0",
            "068cde87a0fe45e49972b57574b63f53",
            "fbfad70a112c4aecb9e6fed8999b2664",
            "f88c5db80aac4787be969487eafa738e",
            "b6484e30a1f8492d8fba6afecd75abc5",
            "d92a1a304b924e84a4fa91edb37c73b6",
            "ce3e5529af4d47ea9766ff2601b9bc9f",
            "6282ac1e90534649bc263b154bedd3a5",
            "239d58fd492e4ddf8987a47120849132",
            "4296d25e8bd64cc888d1d9aae141a758",
            "f0b27d881f3b42a68d5d8f2927c31c64",
            "03d8d5f58d73485db1e38bef9447d94e",
            "12dded4236b0491c9219bbf4db2d9f36",
            "7e4a312a3ab7471980d94fe58b5bcf32",
            "e69cd483cfb94579bc51d352f0fb17c9",
            "f69ece7038794eecbf3522cd9b88ba5b",
            "4c95287d5d2f445997202aff7b4be07a",
            "2ddab17be72c4317b39e7a4219b44c24",
            "b0e244a629e84a95991e440f03427f40"
          ]
        },
        "id": "mE7hYL66mXwF",
        "outputId": "07b7cb17-2768-49d4-a824-55c758ac6924"
      },
      "execution_count": null,
      "outputs": [
        {
          "output_type": "stream",
          "name": "stderr",
          "text": [
            "/usr/local/lib/python3.11/dist-packages/huggingface_hub/utils/_auth.py:94: UserWarning: \n",
            "The secret `HF_TOKEN` does not exist in your Colab secrets.\n",
            "To authenticate with the Hugging Face Hub, create a token in your settings tab (https://huggingface.co/settings/tokens), set it as secret in your Google Colab and restart your session.\n",
            "You will be able to reuse this secret in all of your notebooks.\n",
            "Please note that authentication is recommended but still optional to access public models or datasets.\n",
            "  warnings.warn(\n"
          ]
        },
        {
          "output_type": "display_data",
          "data": {
            "text/plain": [
              "README.md: 0.00B [00:00, ?B/s]"
            ],
            "application/vnd.jupyter.widget-view+json": {
              "version_major": 2,
              "version_minor": 0,
              "model_id": "3bb6add670af4ac79fa2e240ee5c10e7"
            }
          },
          "metadata": {}
        },
        {
          "output_type": "display_data",
          "data": {
            "text/plain": [
              "train-00000-of-00001.parquet:   0%|          | 0.00/299M [00:00<?, ?B/s]"
            ],
            "application/vnd.jupyter.widget-view+json": {
              "version_major": 2,
              "version_minor": 0,
              "model_id": "2f3a89947ec64518af7685327d900bee"
            }
          },
          "metadata": {}
        },
        {
          "output_type": "display_data",
          "data": {
            "text/plain": [
              "test-00000-of-00001.parquet:   0%|          | 0.00/23.5M [00:00<?, ?B/s]"
            ],
            "application/vnd.jupyter.widget-view+json": {
              "version_major": 2,
              "version_minor": 0,
              "model_id": "f3380c30a36c4996b344f34fe750082f"
            }
          },
          "metadata": {}
        },
        {
          "output_type": "display_data",
          "data": {
            "text/plain": [
              "Generating train split:   0%|          | 0/650000 [00:00<?, ? examples/s]"
            ],
            "application/vnd.jupyter.widget-view+json": {
              "version_major": 2,
              "version_minor": 0,
              "model_id": "41fc5d9ff86a4f22bb1c37e688130d37"
            }
          },
          "metadata": {}
        },
        {
          "output_type": "display_data",
          "data": {
            "text/plain": [
              "Generating test split:   0%|          | 0/50000 [00:00<?, ? examples/s]"
            ],
            "application/vnd.jupyter.widget-view+json": {
              "version_major": 2,
              "version_minor": 0,
              "model_id": "cbdc3070f7df4d3aa52a69a8d6c36803"
            }
          },
          "metadata": {}
        },
        {
          "output_type": "display_data",
          "data": {
            "text/plain": [
              "tokenizer_config.json:   0%|          | 0.00/49.0 [00:00<?, ?B/s]"
            ],
            "application/vnd.jupyter.widget-view+json": {
              "version_major": 2,
              "version_minor": 0,
              "model_id": "506eb10fc3f54e03933611bf90ae8cce"
            }
          },
          "metadata": {}
        },
        {
          "output_type": "display_data",
          "data": {
            "text/plain": [
              "config.json:   0%|          | 0.00/570 [00:00<?, ?B/s]"
            ],
            "application/vnd.jupyter.widget-view+json": {
              "version_major": 2,
              "version_minor": 0,
              "model_id": "c8a192c796b7404999b65da7ec4a4841"
            }
          },
          "metadata": {}
        },
        {
          "output_type": "display_data",
          "data": {
            "text/plain": [
              "vocab.txt: 0.00B [00:00, ?B/s]"
            ],
            "application/vnd.jupyter.widget-view+json": {
              "version_major": 2,
              "version_minor": 0,
              "model_id": "d6271ad797de4ae3a6e20ee380fad5b5"
            }
          },
          "metadata": {}
        },
        {
          "output_type": "display_data",
          "data": {
            "text/plain": [
              "tokenizer.json: 0.00B [00:00, ?B/s]"
            ],
            "application/vnd.jupyter.widget-view+json": {
              "version_major": 2,
              "version_minor": 0,
              "model_id": "01f2e6fa325a4fd78803c40e9947f401"
            }
          },
          "metadata": {}
        },
        {
          "output_type": "display_data",
          "data": {
            "text/plain": [
              "README.md: 0.00B [00:00, ?B/s]"
            ],
            "application/vnd.jupyter.widget-view+json": {
              "version_major": 2,
              "version_minor": 0,
              "model_id": "49b0049b4bcb4ec7a2b8f565346109e0"
            }
          },
          "metadata": {}
        },
        {
          "output_type": "display_data",
          "data": {
            "text/plain": [
              "Map:   0%|          | 0/100 [00:00<?, ? examples/s]"
            ],
            "application/vnd.jupyter.widget-view+json": {
              "version_major": 2,
              "version_minor": 0,
              "model_id": "239d58fd492e4ddf8987a47120849132"
            }
          },
          "metadata": {}
        }
      ]
    }
  ]
}